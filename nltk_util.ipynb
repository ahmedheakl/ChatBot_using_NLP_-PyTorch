{
 "cells": [
  {
   "cell_type": "code",
   "execution_count": 3,
   "id": "fd30e564",
   "metadata": {},
   "outputs": [
    {
     "name": "stdout",
     "output_type": "stream",
     "text": [
      "Oh yeah, so cool!!\n",
      "['Oh', 'yeah', ',', 'so', 'cool', '!', '!']\n",
      "['organ', 'organ', 'organ']\n"
     ]
    }
   ],
   "source": [
    "# Tokenization\n",
    "import nltk\n",
    "from nltk.stem.porter import PorterStemmer\n",
    "import numpy as np\n",
    "\n",
    "stemmer = PorterStemmer()\n",
    "def tokenize(sentence):\n",
    "    return nltk.word_tokenize(sentence)\n",
    "\n",
    "# lower + Stemming\n",
    "def stem(word):\n",
    "    return stemmer.stem(word.lower())\n",
    "\n",
    "# Bag of words\n",
    "def bag_of_words(tokenized_sentence, words):\n",
    "    stemmed = [stem(w) for w in tokenized_sentence]\n",
    "    \n",
    "    bag = np.zeros(len(words), dtype=np.float32)\n",
    "    for idx, word in enumerate(bag):\n",
    "        if word in stemmed:\n",
    "            bag[idx] = 1.0\n",
    "    return bag\n",
    "\n",
    "\n"
   ]
  },
  {
   "cell_type": "code",
   "execution_count": null,
   "id": "3e49ff47",
   "metadata": {},
   "outputs": [],
   "source": []
  }
 ],
 "metadata": {
  "kernelspec": {
   "display_name": "Python 3",
   "language": "python",
   "name": "python3"
  },
  "language_info": {
   "codemirror_mode": {
    "name": "ipython",
    "version": 3
   },
   "file_extension": ".py",
   "mimetype": "text/x-python",
   "name": "python",
   "nbconvert_exporter": "python",
   "pygments_lexer": "ipython3",
   "version": "3.8.8"
  }
 },
 "nbformat": 4,
 "nbformat_minor": 5
}
